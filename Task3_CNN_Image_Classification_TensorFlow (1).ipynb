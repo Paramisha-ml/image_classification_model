{
  "cells": [
    {
      "cell_type": "code",
      "source": [
        "# importing necessary libraries\n",
        "import tensorflow as tf  # for deep learning\n",
        "from tensorflow.keras import datasets, layers, models  # for CNN model and layers\n",
        "import matplotlib.pyplot as plt  # for visualization\n",
        "import numpy as np  # for array operations\n",
        "\n",
        "# loading the CIFAR-10 dataset directly from tensorflow\n",
        "(x_train, y_train), (x_test, y_test) = datasets.cifar10.load_data()\n",
        "\n",
        "# normalizing the pixel values so that they lie between 0 and 1\n",
        "x_train, x_test = x_train /255.0, x_test / 255.0\n",
        "\n",
        "# converting labels from 2D to 1D\n",
        "y_train = y_train.flatten()\n",
        "y_test = y_test.flatten()\n",
        "\n",
        "# CIFAR-10 has 10 classes, but we only want 2: cat (label 3) and dog (label 5)\n",
        "train_filter = np.where((y_train == 3) | (y_train == 5))\n",
        "test_filter =np.where((y_test == 3) | (y_test == 5))\n",
        "\n",
        "x_train, y_train =x_train[train_filter], y_train[train_filter]\n",
        "x_test, y_test =x_test[test_filter], y_test[test_filter]\n",
        "\n",
        "# changing label\n",
        "y_train = np.where(y_train == 3, 0, 1)\n",
        "y_test = np.where(y_test == 3, 0, 1)\n"
      ],
      "metadata": {
        "id": "P6eNdTbKtrh0"
      },
      "execution_count": 46,
      "outputs": []
    },
    {
      "cell_type": "code",
      "source": [
        "# creating the CNN model\n",
        "model = models.Sequential()\n",
        "\n",
        "# first convolutional layer\n",
        "model.add(layers.Conv2D(32, (3, 3), activation='relu', input_shape=(32, 32, 3)))\n",
        "model.add(layers.MaxPooling2D((2, 2)))  # downsampling\n",
        "\n",
        "# second convolutional layer\n",
        "model.add(layers.Conv2D(64, (3, 3), activation='relu'))\n",
        "model.add(layers.MaxPooling2D((2, 2)))\n",
        "\n",
        "# flattening and connecting to dense layers\n",
        "model.add(layers.Flatten())\n",
        "model.add(layers.Dense(64, activation='relu'))  # hidden layer\n",
        "model.add(layers.Dense(1, activation='sigmoid'))  # output layer\n",
        "# compiling the model\n",
        "model.compile(optimizer='adam', loss='binary_crossentropy', metrics=['accuracy'])\n",
        "\n",
        "# training the model\n",
        "model.fit(x_train, y_train, epochs=10, validation_data=(x_test, y_test))\n"
      ],
      "metadata": {
        "colab": {
          "base_uri": "https://localhost:8080/"
        },
        "id": "d8oQ64bmt4YI",
        "outputId": "7161659a-5749-4420-fa44-1d3b46b9fbf4"
      },
      "execution_count": 47,
      "outputs": [
        {
          "output_type": "stream",
          "name": "stdout",
          "text": [
            "Epoch 1/10\n",
            "\u001b[1m313/313\u001b[0m \u001b[32m━━━━━━━━━━━━━━━━━━━━\u001b[0m\u001b[37m\u001b[0m \u001b[1m63s\u001b[0m 47ms/step - accuracy: 0.5639 - loss: 0.6759 - val_accuracy: 0.6225 - val_loss: 0.6422\n",
            "Epoch 2/10\n",
            "\u001b[1m313/313\u001b[0m \u001b[32m━━━━━━━━━━━━━━━━━━━━\u001b[0m\u001b[37m\u001b[0m \u001b[1m15s\u001b[0m 47ms/step - accuracy: 0.6777 - loss: 0.5955 - val_accuracy: 0.7000 - val_loss: 0.5624\n",
            "Epoch 3/10\n",
            "\u001b[1m313/313\u001b[0m \u001b[32m━━━━━━━━━━━━━━━━━━━━\u001b[0m\u001b[37m\u001b[0m \u001b[1m20s\u001b[0m 46ms/step - accuracy: 0.7196 - loss: 0.5504 - val_accuracy: 0.7130 - val_loss: 0.5583\n",
            "Epoch 4/10\n",
            "\u001b[1m313/313\u001b[0m \u001b[32m━━━━━━━━━━━━━━━━━━━━\u001b[0m\u001b[37m\u001b[0m \u001b[1m20s\u001b[0m 46ms/step - accuracy: 0.7348 - loss: 0.5266 - val_accuracy: 0.7390 - val_loss: 0.5323\n",
            "Epoch 5/10\n",
            "\u001b[1m313/313\u001b[0m \u001b[32m━━━━━━━━━━━━━━━━━━━━\u001b[0m\u001b[37m\u001b[0m \u001b[1m20s\u001b[0m 44ms/step - accuracy: 0.7582 - loss: 0.5000 - val_accuracy: 0.7355 - val_loss: 0.5274\n",
            "Epoch 6/10\n",
            "\u001b[1m313/313\u001b[0m \u001b[32m━━━━━━━━━━━━━━━━━━━━\u001b[0m\u001b[37m\u001b[0m \u001b[1m21s\u001b[0m 44ms/step - accuracy: 0.7826 - loss: 0.4600 - val_accuracy: 0.7360 - val_loss: 0.5138\n",
            "Epoch 7/10\n",
            "\u001b[1m313/313\u001b[0m \u001b[32m━━━━━━━━━━━━━━━━━━━━\u001b[0m\u001b[37m\u001b[0m \u001b[1m22s\u001b[0m 49ms/step - accuracy: 0.7734 - loss: 0.4575 - val_accuracy: 0.7465 - val_loss: 0.5273\n",
            "Epoch 8/10\n",
            "\u001b[1m313/313\u001b[0m \u001b[32m━━━━━━━━━━━━━━━━━━━━\u001b[0m\u001b[37m\u001b[0m \u001b[1m16s\u001b[0m 51ms/step - accuracy: 0.8137 - loss: 0.4159 - val_accuracy: 0.7605 - val_loss: 0.5007\n",
            "Epoch 9/10\n",
            "\u001b[1m313/313\u001b[0m \u001b[32m━━━━━━━━━━━━━━━━━━━━\u001b[0m\u001b[37m\u001b[0m \u001b[1m20s\u001b[0m 49ms/step - accuracy: 0.8185 - loss: 0.3926 - val_accuracy: 0.7485 - val_loss: 0.5316\n",
            "Epoch 10/10\n",
            "\u001b[1m313/313\u001b[0m \u001b[32m━━━━━━━━━━━━━━━━━━━━\u001b[0m\u001b[37m\u001b[0m \u001b[1m19s\u001b[0m 43ms/step - accuracy: 0.8354 - loss: 0.3603 - val_accuracy: 0.7560 - val_loss: 0.5258\n"
          ]
        },
        {
          "output_type": "execute_result",
          "data": {
            "text/plain": [
              "<keras.src.callbacks.history.History at 0x7c198a9c3c90>"
            ]
          },
          "metadata": {},
          "execution_count": 47
        }
      ]
    },
    {
      "cell_type": "code",
      "source": [
        "#for evaluating performance on test dataset\n",
        "test_loss, test_accuracy = model.evaluate(x_test, y_test)\n",
        "\n",
        "print(\"Test Accuracy:\", test_accuracy)\n",
        "print(\"Test Loss:\", test_loss)\n"
      ],
      "metadata": {
        "colab": {
          "base_uri": "https://localhost:8080/"
        },
        "id": "cDfc3e_nt_Kl",
        "outputId": "55be323e-c323-49f3-e325-9238e540f457"
      },
      "execution_count": 48,
      "outputs": [
        {
          "output_type": "stream",
          "name": "stdout",
          "text": [
            "\u001b[1m63/63\u001b[0m \u001b[32m━━━━━━━━━━━━━━━━━━━━\u001b[0m\u001b[37m\u001b[0m \u001b[1m1s\u001b[0m 21ms/step - accuracy: 0.7559 - loss: 0.5154\n",
            "Test Accuracy: 0.7559999823570251\n",
            "Test Loss: 0.5258027911186218\n"
          ]
        }
      ]
    },
    {
      "cell_type": "code",
      "source": [
        "# here i have enterd the path of a test_picture (cat) for testing\n",
        "from tensorflow.keras.preprocessing import image\n",
        "\n",
        "img_path = \"/content/drive/MyDrive/dataset /test_picture.jpg\"\n",
        "img = image.load_img(img_path, target_size=(32, 32))  # resize to CIFAR size\n",
        "img_array =image.img_to_array(img) / 255.0  # normalize\n",
        "img_array = np.expand_dims(img_array, axis=0)  # reshape for model\n",
        "\n",
        "# predicting\n",
        "prediction =model.predict(img_array)\n",
        "\n",
        "if prediction[0][0] >= 0.5:\n",
        "    print(\"Predicted: Dog 🐕\")\n",
        "else:\n",
        "    print(\"Predicted: Cat 🐱 \")\n"
      ],
      "metadata": {
        "colab": {
          "base_uri": "https://localhost:8080/"
        },
        "id": "ZqI5eaG1t-g4",
        "outputId": "0e200121-b768-4fd6-ee08-823bfea868a5"
      },
      "execution_count": 51,
      "outputs": [
        {
          "output_type": "stream",
          "name": "stdout",
          "text": [
            "\u001b[1m1/1\u001b[0m \u001b[32m━━━━━━━━━━━━━━━━━━━━\u001b[0m\u001b[37m\u001b[0m \u001b[1m0s\u001b[0m 40ms/step\n",
            "Predicted: Cat 🐱 \n"
          ]
        }
      ]
    }
  ],
  "metadata": {
    "colab": {
      "provenance": []
    },
    "kernelspec": {
      "display_name": "Python 3",
      "name": "python3"
    },
    "language_info": {
      "name": "python"
    }
  },
  "nbformat": 4,
  "nbformat_minor": 0
}